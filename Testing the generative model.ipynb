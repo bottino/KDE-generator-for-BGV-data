{
 "cells": [
  {
   "cell_type": "markdown",
   "metadata": {},
   "source": [
    "# Testing the generative model\n",
    "\n",
    "We use a Random Forests classifier to compare our generated samples to the real deal"
   ]
  },
  {
   "cell_type": "code",
   "execution_count": 65,
   "metadata": {
    "collapsed": true
   },
   "outputs": [],
   "source": [
    "#Importing the libraries\n",
    "%matplotlib inline\n",
    "import numpy as np\n",
    "import matplotlib.pyplot as plt\n",
    "import pandas as pd"
   ]
  },
  {
   "cell_type": "code",
   "execution_count": 66,
   "metadata": {
    "collapsed": false
   },
   "outputs": [],
   "source": [
    "BGV_data = pd.read_csv(\"processed_data/processed_over2000_BGV_mirror_131mm.csv\",header=None,sep='\\t')\n",
    "data = BGV_data.values"
   ]
  },
  {
   "cell_type": "markdown",
   "metadata": {},
   "source": [
    "### New data generation\n",
    "\n",
    "We use KDE to generate new data and compare it to the BGV data"
   ]
  },
  {
   "cell_type": "code",
   "execution_count": 67,
   "metadata": {
    "collapsed": false
   },
   "outputs": [
    {
     "data": {
      "text/plain": [
       "(42219, 11)"
      ]
     },
     "execution_count": 67,
     "metadata": {},
     "output_type": "execute_result"
    }
   ],
   "source": [
    "#taking away a random subset of the data to generate new samples\n",
    "from sklearn.cross_validation import train_test_split\n",
    "X_data, gen_data = train_test_split(data,random_state=0,test_size=0.5)\n",
    "gen_data.shape"
   ]
  },
  {
   "cell_type": "code",
   "execution_count": 143,
   "metadata": {
    "collapsed": false
   },
   "outputs": [
    {
     "name": "stdout",
     "output_type": "stream",
     "text": [
      "best bandwidth: 166.81005372000593\n",
      "best leaf_size: 100.0\n",
      "CPU times: user 13.5 s, sys: 147 ms, total: 13.6 s\n",
      "Wall time: 14 s\n"
     ]
    }
   ],
   "source": [
    "%%time\n",
    "# use grid search to optimize the bandwidth\n",
    "from sklearn.grid_search import GridSearchCV\n",
    "from sklearn.neighbors import KernelDensity\n",
    "\n",
    "bw_data = gen_data[np.random.randint(len(gen_data),size=1000),:]\n",
    "params = {'bandwidth': np.logspace(-4,3,10),\n",
    "    #'bandwidth': np.logspace(-2,3,20),\n",
    "          'leaf_size' : np.linspace(100,800,30)\n",
    "}\n",
    "grid = GridSearchCV(KernelDensity(), params)\n",
    "grid.fit(bw_data)\n",
    "print(\"best bandwidth: {0}\".format(grid.best_estimator_.bandwidth))\n",
    "print(\"best leaf_size: {0}\".format(grid.best_estimator_.leaf_size))"
   ]
  },
  {
   "cell_type": "code",
   "execution_count": 142,
   "metadata": {
    "collapsed": false
   },
   "outputs": [
    {
     "data": {
      "text/plain": [
       "[<matplotlib.lines.Line2D at 0x110e9e6d8>]"
      ]
     },
     "execution_count": 142,
     "metadata": {},
     "output_type": "execute_result"
    },
    {
     "data": {
      "image/png": "[encoded data removed]",
      "text/plain": [
       "<matplotlib.figure.Figure at 0x110e5fcc0>"
      ]
     },
     "metadata": {},
     "output_type": "display_data"
    }
   ],
   "source": [
    "params =[]\n",
    "score=[]\n",
    "for point in grid.grid_scores_:\n",
    "    score.append(point.mean_validation_score)\n",
    "    params.append(point.parameters['leaf_size'])\n",
    "    \n",
    "plt.plot(params, score)"
   ]
  },
  {
   "cell_type": "code",
   "execution_count": 108,
   "metadata": {
    "collapsed": false
   },
   "outputs": [
    {
     "data": {
      "text/plain": [
       "KernelDensity(algorithm='auto', atol=0, bandwidth=1.0, breadth_first=True,\n",
       "       kernel='gaussian', leaf_size=46.888888888888886, metric='euclidean',\n",
       "       metric_params=None, rtol=0)"
      ]
     },
     "execution_count": 108,
     "metadata": {},
     "output_type": "execute_result"
    }
   ],
   "source": [
    "kde = grid.best_estimator_\n",
    "kde.fit(gen_data)"
   ]
  },
  {
   "cell_type": "code",
   "execution_count": 109,
   "metadata": {
    "collapsed": false
   },
   "outputs": [
    {
     "data": {
      "text/plain": [
       "KernelDensity(algorithm='auto', atol=0, bandwidth=1.0, breadth_first=True,\n",
       "       kernel='gaussian', leaf_size=46.888888888888886, metric='euclidean',\n",
       "       metric_params=None, rtol=0)"
      ]
     },
     "execution_count": 109,
     "metadata": {},
     "output_type": "execute_result"
    }
   ],
   "source": [
    "kde = KernelDensity(bandwidth = grid.best_estimator_.bandwidth, leaf_size=grid.best_estimator_.leaf_size)\n",
    "kde.fit(gen_data)"
   ]
  },
  {
   "cell_type": "code",
   "execution_count": 110,
   "metadata": {
    "collapsed": false,
    "scrolled": true
   },
   "outputs": [
    {
     "data": {
      "text/plain": [
       "(42218, 11)"
      ]
     },
     "execution_count": 110,
     "metadata": {},
     "output_type": "execute_result"
    }
   ],
   "source": [
    "X_gen = kde.sample(len(X_data), random_state=0)\n",
    "X_gen.shape"
   ]
  },
  {
   "cell_type": "code",
   "execution_count": 111,
   "metadata": {
    "collapsed": false
   },
   "outputs": [
    {
     "name": "stdout",
     "output_type": "stream",
     "text": [
      "[ True  True  True ..., False False False]\n"
     ]
    }
   ],
   "source": [
    "y_data = np.ones((len(X_data),1), dtype=bool)\n",
    "y_gen = np.zeros((len(X_gen),1), dtype=bool)\n",
    "\n",
    "X = np.vstack((X_data,X_gen))\n",
    "y = np.vstack((y_data,y_gen))\n",
    "y = y.ravel()\n",
    "print(y)"
   ]
  },
  {
   "cell_type": "markdown",
   "metadata": {},
   "source": [
    "### Cross-validation"
   ]
  },
  {
   "cell_type": "code",
   "execution_count": 112,
   "metadata": {
    "collapsed": false
   },
   "outputs": [
    {
     "data": {
      "text/plain": [
       "(25331, 11)"
      ]
     },
     "execution_count": 112,
     "metadata": {},
     "output_type": "execute_result"
    }
   ],
   "source": [
    "X_train, X_test, y_train, y_test = train_test_split(X,y,random_state=0,test_size=0.3)\n",
    "X_test.shape"
   ]
  },
  {
   "cell_type": "markdown",
   "metadata": {},
   "source": [
    "### Prediction and score"
   ]
  },
  {
   "cell_type": "code",
   "execution_count": 113,
   "metadata": {
    "collapsed": false
   },
   "outputs": [
    {
     "data": {
      "text/plain": [
       "ExtraTreesClassifier(bootstrap=False, class_weight=None, criterion='gini',\n",
       "           max_depth=10, max_features='auto', max_leaf_nodes=None,\n",
       "           min_samples_leaf=1, min_samples_split=2,\n",
       "           min_weight_fraction_leaf=0.0, n_estimators=100, n_jobs=1,\n",
       "           oob_score=False, random_state=14, verbose=0, warm_start=False)"
      ]
     },
     "execution_count": 113,
     "metadata": {},
     "output_type": "execute_result"
    }
   ],
   "source": [
    "from sklearn.ensemble import ExtraTreesClassifier\n",
    "ET_class = ExtraTreesClassifier(random_state=14, max_depth=10, n_estimators=100)\n",
    "ET_class.fit(X_train, y_train)"
   ]
  },
  {
   "cell_type": "code",
   "execution_count": 114,
   "metadata": {
    "collapsed": false
   },
   "outputs": [
    {
     "name": "stdout",
     "output_type": "stream",
     "text": [
      "(25331, 11)\n",
      "(59105, 11)\n",
      "(25331,)\n",
      "(25331,)\n"
     ]
    },
    {
     "data": {
      "text/plain": [
       "0.555287987051439"
      ]
     },
     "execution_count": 114,
     "metadata": {},
     "output_type": "execute_result"
    }
   ],
   "source": [
    "#Prediction\n",
    "print(X_test.shape)\n",
    "print(X_train.shape)\n",
    "y_pred = ET_class.predict(X_test)\n",
    "print(y_pred.shape)\n",
    "print(y_test.shape)\n",
    "ET_class.score(X_test, y_test)"
   ]
  },
  {
   "cell_type": "code",
   "execution_count": null,
   "metadata": {
    "collapsed": true
   },
   "outputs": [],
   "source": []
  },
  {
   "cell_type": "markdown",
   "metadata": {
    "collapsed": true
   },
   "source": [
    "### Keeping the \"good\" generated points, and feeding them back to the KDE estimator\n",
    "\n",
    "We are especially interested in events of the form:\n",
    "```python\n",
    "y_test[event] = False\n",
    "y_pred[event] = True\n",
    "```\n",
    "Meaning the sample was good enough that the classifier mistook it for the real deal."
   ]
  },
  {
   "cell_type": "code",
   "execution_count": 83,
   "metadata": {
    "collapsed": false
   },
   "outputs": [
    {
     "name": "stdout",
     "output_type": "stream",
     "text": [
      "(8772,)\n"
     ]
    }
   ],
   "source": [
    "#Isolating the \"good\" samples\n",
    "ind_good = np.intersect1d(np.argwhere(y_test==False).reshape(-1),np.argwhere(y_pred==True).reshape(-1))\n",
    "print(ind_good.shape)\n",
    "X_good = X_test[ind_good,:]\n",
    "X_ini = X_good"
   ]
  },
  {
   "cell_type": "code",
   "execution_count": null,
   "metadata": {
    "collapsed": false
   },
   "outputs": [],
   "source": [
    "#same procedure as before\n",
    "X_good = X_ini\n",
    "X_data, gen_data = train_test_split(data,random_state=0,test_size=0.3)\n",
    "for i in range(0,10):\n",
    "    gen_data = np.vstack((gen_data, X_good))\n",
    "    print(len(gen_data))\n",
    "\n",
    "    kde.fit(gen_data)\n",
    "    X_gen = kde.sample(len(X_data)).astype(int), random_state=14)\n",
    "\n",
    "    y_data = np.ones((len(X_data),1), dtype=bool)\n",
    "    y_gen = np.zeros((len(X_gen),1), dtype=bool)\n",
    "\n",
    "    X = np.vstack((X_data,X_gen))\n",
    "    y = np.vstack((y_data,y_gen)).ravel()\n",
    "\n",
    "    X_train, X_test, y_train, y_test = train_test_split(X,y,random_state=None,test_size=0.3)\n",
    "\n",
    "    ET_class.fit(X_train, y_train)\n",
    "    y_pred = ET_class.predict(X_test)\n",
    "\n",
    "    ind_good = np.intersect1d(np.argwhere(y_test==False).reshape(-1),np.argwhere(y_pred==True).reshape(-1))\n",
    "    print(ind_good.shape)\n",
    "    X_good = X_test[ind_good,:]"
   ]
  },
  {
   "cell_type": "code",
   "execution_count": null,
   "metadata": {
    "collapsed": false
   },
   "outputs": [],
   "source": [
    "ET_class.score(X_test, y_test)"
   ]
  },
  {
   "cell_type": "code",
   "execution_count": null,
   "metadata": {
    "collapsed": false
   },
   "outputs": [],
   "source": [
    "X_data, gen_data = train_test_split(data,random_state=0,test_size=0.3)\n",
    "X_gen = kde.sample(20000, random_state=14)\n",
    "y_data = np.ones((len(X_data),1), dtype=bool)\n",
    "y_gen = np.zeros((len(X_gen),1), dtype=bool)\n",
    "\n",
    "X = np.vstack((X_data,X_gen))\n",
    "y = np.vstack((y_data,y_gen)).ravel()\n",
    "\n",
    "X_train, X_test, y_train, y_test = train_test_split(X,y,random_state=None,test_size=0.3)\n",
    "\n",
    "ET_class.fit(X_train, y_train)\n",
    "y_pred = ET_class.predict(X_test)\n",
    "ET_class.score(X_test, y_test)"
   ]
  },
  {
   "cell_type": "code",
   "execution_count": 16,
   "metadata": {
    "collapsed": false
   },
   "outputs": [
    {
     "data": {
      "text/plain": [
       "array([ 100.        ,  115.78947368,  131.57894737,  147.36842105,\n",
       "        163.15789474,  178.94736842,  194.73684211,  210.52631579,\n",
       "        226.31578947,  242.10526316,  257.89473684,  273.68421053,\n",
       "        289.47368421,  305.26315789,  321.05263158,  336.84210526,\n",
       "        352.63157895,  368.42105263,  384.21052632,  400.        ])"
      ]
     },
     "execution_count": 16,
     "metadata": {},
     "output_type": "execute_result"
    }
   ],
   "source": [
    "np.linspace(100,400,20)"
   ]
  }
 ],
 "metadata": {
  "kernelspec": {
   "display_name": "Python 3",
   "language": "python",
   "name": "python3"
  },
  "language_info": {
   "codemirror_mode": {
    "name": "ipython",
    "version": 3
   },
   "file_extension": ".py",
   "mimetype": "text/x-python",
   "name": "python",
   "nbconvert_exporter": "python",
   "pygments_lexer": "ipython3",
   "version": "3.5.1"
  }
 },
 "nbformat": 4,
 "nbformat_minor": 0
}
